{
  "nbformat": 4,
  "nbformat_minor": 0,
  "metadata": {
    "colab": {
      "provenance": [],
      "authorship_tag": "ABX9TyMOo8UaUAGDF2qJodLhbPVL",
      "include_colab_link": true
    },
    "kernelspec": {
      "name": "python3",
      "display_name": "Python 3"
    },
    "language_info": {
      "name": "python"
    }
  },
  "cells": [
    {
      "cell_type": "markdown",
      "metadata": {
        "id": "view-in-github",
        "colab_type": "text"
      },
      "source": [
        "<a href=\"https://colab.research.google.com/github/Benjohn2001/The-Office-Predictor/blob/main/The_Office_Predictor.ipynb\" target=\"_parent\"><img src=\"https://colab.research.google.com/assets/colab-badge.svg\" alt=\"Open In Colab\"/></a>"
      ]
    },
    {
      "cell_type": "code",
      "execution_count": 2,
      "metadata": {
        "colab": {
          "base_uri": "https://localhost:8080/"
        },
        "id": "qODzsi8brGn1",
        "outputId": "4aac4ea4-ba40-4957-ede8-b5f897fd58de"
      },
      "outputs": [
        {
          "output_type": "stream",
          "name": "stdout",
          "text": [
            "                                               quote character\n",
            "0  Yeah, that’s right. Fifteen years and three mo...   Michael\n",
            "1            Let’s see, since I saw you an hour ago?       Jim\n",
            "2                                No. We took a walk.       Jim\n",
            "3                    I thought that was your corner.       Pam\n",
            "4  Oh, nothing can hurt you now. You’re a man in ...    Dwight\n"
          ]
        }
      ],
      "source": [
        "import numpy as np\n",
        "import pandas as pd\n",
        "\n",
        "#Initial importing of data\n",
        "parentURL = 'https://raw.githubusercontent.com/Benjohn2001/The-Office-Predictor/main/parent_reply.csv'\n",
        "talkingURL = 'https://raw.githubusercontent.com/Benjohn2001/The-Office-Predictor/main/talking_head.csv'\n",
        "parentDS = pd.read_csv(parentURL)\n",
        "talkingDS = pd.read_csv(talkingURL)\n",
        "\n",
        "#Drop the columns that are not needed\n",
        "#Rename reply to quote so both datasets have matching column names\n",
        "#Combine both the datasets and use reset_index with drop true to reset indexes\n",
        "#and discard the old indexes, all data is now combined\n",
        "#We have 27899 quotes when combined\n",
        "talkingDS=talkingDS.drop(columns=['quote_id'])\n",
        "parentDS=parentDS.drop(columns=[\"parent_id\", \"parent\"])\n",
        "parentDS=parentDS.rename(columns={'reply': 'quote'})\n",
        "combinedDS = pd.concat([parentDS, talkingDS]).reset_index(drop=True)\n",
        "\n",
        "#Remove quotes of length less than 5, removing 10575 quotes, now 17324 quotes \n",
        "#Specification has limit of 10000 samples so now random sample to 10000\n",
        "i=0\n",
        "for item in combinedDS['quote'].values:\n",
        "    if(len(item.split())<5):\n",
        "        combinedDS=combinedDS.drop(i,axis=0)\n",
        "    i=i+1\n",
        "sampled = combinedDS.sample(n=10000).reset_index(drop=True)\n",
        "\n",
        "#Split dataset in 60% training, 20% validation, and 20% test\n",
        "trainDS=sampled[:6000]\n",
        "validationDS=sampled[6000:8000]\n",
        "testDS=sampled[8000:]\n",
        "\n",
        "print(trainDS.head())\n"
      ]
    },
    {
      "cell_type": "code",
      "source": [
        "sampledCounts=sampled['character'].value_counts()\n",
        "trainCounts=trainDS['character'].value_counts()\n",
        "validationCounts=validationDS['character'].value_counts()\n",
        "testCounts=testDS['character'].value_counts()\n",
        "\n",
        "tableDataCount={\n",
        "    'Dataset':['Initial', 'Train', 'Validation', 'Test'],\n",
        "    'Michael':[sampledCounts['Michael'],trainCounts['Michael'],validationCounts['Michael'],testCounts['Michael']],\n",
        "    'Dwight':[sampledCounts['Dwight'],trainCounts['Dwight'],validationCounts['Dwight'],testCounts['Dwight']],\n",
        "    'Jim':[sampledCounts['Jim'],trainCounts['Jim'],validationCounts['Jim'],testCounts['Jim']],\n",
        "    'Pam':[sampledCounts['Pam'],trainCounts['Pam'],validationCounts['Pam'],testCounts['Pam']],\n",
        "}\n",
        "\n",
        "tableDataPercent={\n",
        "    'Dataset':['Initial', 'Train', 'Validation', 'Test'],\n",
        "    'Michael':[str(round(sampledCounts['Michael']/10000*100,2)),str(round(trainCounts['Michael']/6000*100,2)),str(round(validationCounts['Michael']/2000*100,2)),str(round(testCounts['Michael']/2000*100,2))],\n",
        "    'Dwight':[str(round(sampledCounts['Dwight']/10000*100,2)),str(round(trainCounts['Dwight']/6000*100,2)),str(round(validationCounts['Dwight']/2000*100,2)),str(round(testCounts['Dwight']/2000*100,2))],\n",
        "    'Jim':[str(round(sampledCounts['Jim']/10000*100,2)),str(round(trainCounts['Jim']/6000*100,2)),str(round(validationCounts['Jim']/2000*100,2)),str(round(testCounts['Jim']/2000*100,2))],\n",
        "    'Pam':[str(round(sampledCounts['Pam']/10000*100,2)),str(round(trainCounts['Pam']/6000*100,2)),str(round(validationCounts['Pam']/2000*100,2)),str(round(testCounts['Pam']/2000*100,2))],\n",
        "}\n",
        "\n",
        "tableFrameCount=pd.DataFrame(tableDataCount)\n",
        "print('Table displaying the amount of quotes for each character in each dataset\\n')\n",
        "print(tableFrameCount.to_string(index=False))\n",
        "\n",
        "tableFramePercent=pd.DataFrame(tableDataPercent)\n",
        "print('\\nTable displaying the percentage of character quotes in each dataset\\n')\n",
        "print(tableFramePercent.to_string(index=False))"
      ],
      "metadata": {
        "colab": {
          "base_uri": "https://localhost:8080/"
        },
        "id": "bIB3QgRmCS6_",
        "outputId": "8bb5cd6c-3551-479c-a047-19ebd6aa2634"
      },
      "execution_count": 3,
      "outputs": [
        {
          "output_type": "stream",
          "name": "stdout",
          "text": [
            "Table displaying the amount of quotes for each character in each dataset\n",
            "\n",
            "   Dataset  Michael  Dwight  Jim  Pam\n",
            "   Initial     4136    2392 1959 1513\n",
            "     Train     2505    1454 1173  868\n",
            "Validation      805     475  405  315\n",
            "      Test      826     463  381  330\n",
            "\n",
            "Table displaying the percentage of character quotes in each dataset\n",
            "\n",
            "   Dataset Michael Dwight   Jim   Pam\n",
            "   Initial   41.36  23.92 19.59 15.13\n",
            "     Train   41.75  24.23 19.55 14.47\n",
            "Validation   40.25  23.75 20.25 15.75\n",
            "      Test    41.3  23.15 19.05  16.5\n"
          ]
        }
      ]
    },
    {
      "cell_type": "code",
      "source": [
        "#Using the english pipeline we tokenize each quote and add it to the dataframe\n",
        "#The text_pipeline_spacy function is from the labs\n",
        "import spacy\n",
        "nlp = spacy.load(\"en_core_web_sm\")\n",
        "\n",
        "def text_pipeline_spacy(text):\n",
        "    tokens = []\n",
        "    doc = nlp(text)\n",
        "    for t in doc:\n",
        "        if not t.is_stop and not t.is_punct and not t.is_space:\n",
        "            tokens.append(t.lemma_.lower())\n",
        "    return tokens\n",
        "\n",
        "tokensArr=[]\n",
        "for q in trainDS.itertuples():\n",
        "  tokensArr.append(text_pipeline_spacy(q.quote))\n",
        "\n",
        "trainDSwTokens = trainDS.assign(tokens=tokensArr)"
      ],
      "metadata": {
        "id": "HgvltBE9hMS3"
      },
      "execution_count": 12,
      "outputs": []
    },
    {
      "cell_type": "code",
      "source": [
        "trainDSwTokens.head()"
      ],
      "metadata": {
        "colab": {
          "base_uri": "https://localhost:8080/",
          "height": 214
        },
        "id": "u2-4LNjHrKej",
        "outputId": "379e3d64-8ffb-4c9f-c99f-ec9b98d771f6"
      },
      "execution_count": 13,
      "outputs": [
        {
          "output_type": "execute_result",
          "data": {
            "text/plain": [
              "                                               quote character  \\\n",
              "0  Yeah, that’s right. Fifteen years and three mo...   Michael   \n",
              "1            Let’s see, since I saw you an hour ago?       Jim   \n",
              "2                                No. We took a walk.       Jim   \n",
              "3                    I thought that was your corner.       Pam   \n",
              "4  Oh, nothing can hurt you now. You’re a man in ...    Dwight   \n",
              "\n",
              "                                              tokens  \n",
              "0  [yeah, right, year, month, wow, hire, think, r...  \n",
              "1                              [let, see, hour, ago]  \n",
              "2                                       [take, walk]  \n",
              "3                                    [think, corner]  \n",
              "4                              [oh, hurt, man, love]  "
            ],
            "text/html": [
              "\n",
              "  <div id=\"df-1bcb4dbb-3c85-4e9f-a59d-c990cafc6459\">\n",
              "    <div class=\"colab-df-container\">\n",
              "      <div>\n",
              "<style scoped>\n",
              "    .dataframe tbody tr th:only-of-type {\n",
              "        vertical-align: middle;\n",
              "    }\n",
              "\n",
              "    .dataframe tbody tr th {\n",
              "        vertical-align: top;\n",
              "    }\n",
              "\n",
              "    .dataframe thead th {\n",
              "        text-align: right;\n",
              "    }\n",
              "</style>\n",
              "<table border=\"1\" class=\"dataframe\">\n",
              "  <thead>\n",
              "    <tr style=\"text-align: right;\">\n",
              "      <th></th>\n",
              "      <th>quote</th>\n",
              "      <th>character</th>\n",
              "      <th>tokens</th>\n",
              "    </tr>\n",
              "  </thead>\n",
              "  <tbody>\n",
              "    <tr>\n",
              "      <th>0</th>\n",
              "      <td>Yeah, that’s right. Fifteen years and three mo...</td>\n",
              "      <td>Michael</td>\n",
              "      <td>[yeah, right, year, month, wow, hire, think, r...</td>\n",
              "    </tr>\n",
              "    <tr>\n",
              "      <th>1</th>\n",
              "      <td>Let’s see, since I saw you an hour ago?</td>\n",
              "      <td>Jim</td>\n",
              "      <td>[let, see, hour, ago]</td>\n",
              "    </tr>\n",
              "    <tr>\n",
              "      <th>2</th>\n",
              "      <td>No. We took a walk.</td>\n",
              "      <td>Jim</td>\n",
              "      <td>[take, walk]</td>\n",
              "    </tr>\n",
              "    <tr>\n",
              "      <th>3</th>\n",
              "      <td>I thought that was your corner.</td>\n",
              "      <td>Pam</td>\n",
              "      <td>[think, corner]</td>\n",
              "    </tr>\n",
              "    <tr>\n",
              "      <th>4</th>\n",
              "      <td>Oh, nothing can hurt you now. You’re a man in ...</td>\n",
              "      <td>Dwight</td>\n",
              "      <td>[oh, hurt, man, love]</td>\n",
              "    </tr>\n",
              "  </tbody>\n",
              "</table>\n",
              "</div>\n",
              "      <button class=\"colab-df-convert\" onclick=\"convertToInteractive('df-1bcb4dbb-3c85-4e9f-a59d-c990cafc6459')\"\n",
              "              title=\"Convert this dataframe to an interactive table.\"\n",
              "              style=\"display:none;\">\n",
              "        \n",
              "  <svg xmlns=\"http://www.w3.org/2000/svg\" height=\"24px\"viewBox=\"0 0 24 24\"\n",
              "       width=\"24px\">\n",
              "    <path d=\"M0 0h24v24H0V0z\" fill=\"none\"/>\n",
              "    <path d=\"M18.56 5.44l.94 2.06.94-2.06 2.06-.94-2.06-.94-.94-2.06-.94 2.06-2.06.94zm-11 1L8.5 8.5l.94-2.06 2.06-.94-2.06-.94L8.5 2.5l-.94 2.06-2.06.94zm10 10l.94 2.06.94-2.06 2.06-.94-2.06-.94-.94-2.06-.94 2.06-2.06.94z\"/><path d=\"M17.41 7.96l-1.37-1.37c-.4-.4-.92-.59-1.43-.59-.52 0-1.04.2-1.43.59L10.3 9.45l-7.72 7.72c-.78.78-.78 2.05 0 2.83L4 21.41c.39.39.9.59 1.41.59.51 0 1.02-.2 1.41-.59l7.78-7.78 2.81-2.81c.8-.78.8-2.07 0-2.86zM5.41 20L4 18.59l7.72-7.72 1.47 1.35L5.41 20z\"/>\n",
              "  </svg>\n",
              "      </button>\n",
              "      \n",
              "  <style>\n",
              "    .colab-df-container {\n",
              "      display:flex;\n",
              "      flex-wrap:wrap;\n",
              "      gap: 12px;\n",
              "    }\n",
              "\n",
              "    .colab-df-convert {\n",
              "      background-color: #E8F0FE;\n",
              "      border: none;\n",
              "      border-radius: 50%;\n",
              "      cursor: pointer;\n",
              "      display: none;\n",
              "      fill: #1967D2;\n",
              "      height: 32px;\n",
              "      padding: 0 0 0 0;\n",
              "      width: 32px;\n",
              "    }\n",
              "\n",
              "    .colab-df-convert:hover {\n",
              "      background-color: #E2EBFA;\n",
              "      box-shadow: 0px 1px 2px rgba(60, 64, 67, 0.3), 0px 1px 3px 1px rgba(60, 64, 67, 0.15);\n",
              "      fill: #174EA6;\n",
              "    }\n",
              "\n",
              "    [theme=dark] .colab-df-convert {\n",
              "      background-color: #3B4455;\n",
              "      fill: #D2E3FC;\n",
              "    }\n",
              "\n",
              "    [theme=dark] .colab-df-convert:hover {\n",
              "      background-color: #434B5C;\n",
              "      box-shadow: 0px 1px 3px 1px rgba(0, 0, 0, 0.15);\n",
              "      filter: drop-shadow(0px 1px 2px rgba(0, 0, 0, 0.3));\n",
              "      fill: #FFFFFF;\n",
              "    }\n",
              "  </style>\n",
              "\n",
              "      <script>\n",
              "        const buttonEl =\n",
              "          document.querySelector('#df-1bcb4dbb-3c85-4e9f-a59d-c990cafc6459 button.colab-df-convert');\n",
              "        buttonEl.style.display =\n",
              "          google.colab.kernel.accessAllowed ? 'block' : 'none';\n",
              "\n",
              "        async function convertToInteractive(key) {\n",
              "          const element = document.querySelector('#df-1bcb4dbb-3c85-4e9f-a59d-c990cafc6459');\n",
              "          const dataTable =\n",
              "            await google.colab.kernel.invokeFunction('convertToInteractive',\n",
              "                                                     [key], {});\n",
              "          if (!dataTable) return;\n",
              "\n",
              "          const docLinkHtml = 'Like what you see? Visit the ' +\n",
              "            '<a target=\"_blank\" href=https://colab.research.google.com/notebooks/data_table.ipynb>data table notebook</a>'\n",
              "            + ' to learn more about interactive tables.';\n",
              "          element.innerHTML = '';\n",
              "          dataTable['output_type'] = 'display_data';\n",
              "          await google.colab.output.renderOutput(dataTable, element);\n",
              "          const docLink = document.createElement('div');\n",
              "          docLink.innerHTML = docLinkHtml;\n",
              "          element.appendChild(docLink);\n",
              "        }\n",
              "      </script>\n",
              "    </div>\n",
              "  </div>\n",
              "  "
            ]
          },
          "metadata": {},
          "execution_count": 13
        }
      ]
    },
    {
      "cell_type": "code",
      "source": [
        "#Generate the vocabulary for the quotes tokens\n",
        "#make_vocabulary function is from the labs\n",
        "def make_vocabulary(corpus):\n",
        "  dic={}\n",
        "  i=0\n",
        "  for l in corpus:\n",
        "    for token in l:\n",
        "      if not token in dic:\n",
        "        dic[token]=i\n",
        "        i=i+1\n",
        "  return dic\n",
        "\n",
        "vocabTrain = make_vocabulary(tokensArr)"
      ],
      "metadata": {
        "id": "q8g9-nXuuQmP"
      },
      "execution_count": 16,
      "outputs": []
    },
    {
      "cell_type": "code",
      "source": [
        "#Generate the document frequency for the quotes tokens\n",
        "#doc_frequency function is from the labs\n",
        "\n",
        "def doc_frequency(corpus):\n",
        "  dic={}\n",
        "  for l in corpus:\n",
        "    already=[]\n",
        "    for t in l:\n",
        "      if t not in already:\n",
        "        i = dic.get(t)\n",
        "        if i == None:\n",
        "          dic[t]=1\n",
        "        else:\n",
        "          dic[t]=i+1\n",
        "        already.append(t)\n",
        "  return dic\n",
        "\n",
        "trainDocFreq=doc_frequency(trainDSwTokens.tokens)"
      ],
      "metadata": {
        "id": "bYaOYiftrEOh"
      },
      "execution_count": 20,
      "outputs": []
    },
    {
      "cell_type": "code",
      "source": [],
      "metadata": {
        "id": "5z5eBRC-0_UI"
      },
      "execution_count": null,
      "outputs": []
    }
  ]
}