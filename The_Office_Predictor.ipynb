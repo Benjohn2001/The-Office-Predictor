{
  "nbformat": 4,
  "nbformat_minor": 0,
  "metadata": {
    "colab": {
      "provenance": [],
      "authorship_tag": "ABX9TyNkeyNPrkd6f+osnjiblRqM",
      "include_colab_link": true
    },
    "kernelspec": {
      "name": "python3",
      "display_name": "Python 3"
    },
    "language_info": {
      "name": "python"
    }
  },
  "cells": [
    {
      "cell_type": "markdown",
      "metadata": {
        "id": "view-in-github",
        "colab_type": "text"
      },
      "source": [
        "<a href=\"https://colab.research.google.com/github/Benjohn2001/The-Office-Predictor/blob/main/The_Office_Predictor.ipynb\" target=\"_parent\"><img src=\"https://colab.research.google.com/assets/colab-badge.svg\" alt=\"Open In Colab\"/></a>"
      ]
    },
    {
      "cell_type": "code",
      "execution_count": 256,
      "metadata": {
        "id": "qODzsi8brGn1"
      },
      "outputs": [],
      "source": [
        "import numpy as np\n",
        "import pandas as pd\n",
        "from sklearn.model_selection import train_test_split\n",
        "from sklearn.feature_extraction.text import TfidfVectorizer\n",
        "import seaborn as sn\n",
        "from sklearn.metrics import confusion_matrix\n",
        "\n",
        "\n",
        "#Initial importing of data\n",
        "parentURL = 'https://raw.githubusercontent.com/Benjohn2001/The-Office-Predictor/main/parent_reply.csv'\n",
        "talkingURL = 'https://raw.githubusercontent.com/Benjohn2001/The-Office-Predictor/main/talking_head.csv'\n",
        "parentDS = pd.read_csv(parentURL)\n",
        "talkingDS = pd.read_csv(talkingURL)\n",
        "\n",
        "#Drop the columns that are not needed\n",
        "#Rename reply to quote so both datasets have matching column names\n",
        "#Combine both the datasets and use reset_index with drop true to reset indexes\n",
        "#and discard the old indexes, all data is now combined\n",
        "#We have 27899 quotes when combined\n",
        "talkingDS=talkingDS.drop(columns=['quote_id'])\n",
        "parentDS=parentDS.drop(columns=[\"parent_id\", \"parent\"])\n",
        "parentDS=parentDS.rename(columns={'reply': 'quote'})\n",
        "combinedDS = pd.concat([parentDS, talkingDS]).reset_index(drop=True)\n",
        "\n",
        "#Remove quotes of length less than 5, removing 10575 quotes, now 17324 quotes \n",
        "#Specification has limit of 10000 samples so now random sample to 10000\n",
        "i=0\n",
        "for item in combinedDS['quote'].values:\n",
        "    if(len(item.split())<5):\n",
        "        combinedDS=combinedDS.drop(i,axis=0)\n",
        "    i=i+1\n",
        "\n",
        "# Initially used this but dataset was too weighted towards michael so now even representation\n",
        "# sampled = combinedDS.sample(n=10000).reset_index(drop=True)"
      ]
    },
    {
      "cell_type": "code",
      "source": [
        "michaelQ=combinedDS[combinedDS['character']=='Michael'].sample(n=2500)\n",
        "print(len(michaelQ))\n",
        "dwightQ=combinedDS[combinedDS['character']=='Dwight'].sample(n=2500)\n",
        "print(len(dwightQ))\n",
        "jimQ=combinedDS[combinedDS['character']=='Jim'].sample(n=2500)\n",
        "print(len(jimQ))\n",
        "pamQ=combinedDS[combinedDS['character']=='Pam'].sample(n=2500)\n",
        "print(len(pamQ))\n",
        "sampled=pd.concat([michaelQ,dwightQ,jimQ,pamQ]).sample(frac=1).reset_index(drop=True)\n",
        "print(sampled.head)"
      ],
      "metadata": {
        "colab": {
          "base_uri": "https://localhost:8080/"
        },
        "id": "AxT82dzgnsnd",
        "outputId": "b5f5e12d-a05b-4947-a610-42afc294ebd0"
      },
      "execution_count": 280,
      "outputs": [
        {
          "output_type": "stream",
          "name": "stdout",
          "text": [
            "2500\n",
            "2500\n",
            "2500\n",
            "2500\n",
            "<bound method NDFrame.head of                                                   quote character\n",
            "0     You know what you should do? You should quit. ...       Jim\n",
            "1                                Not so weak, huh, Mom?    Dwight\n",
            "2                Then I’m gonna run fast in the middle.       Pam\n",
            "3                         No… no. One crisis at a time.    Dwight\n",
            "4     What does that even mean? What are you… What a...   Michael\n",
            "...                                                 ...       ...\n",
            "9995  Yes, I have a wig for every single person in t...    Dwight\n",
            "9996  Whoa. Hypertoxide has a mild hallucigenic effe...    Dwight\n",
            "9997                    Kinda sorta an oaky afterbirth.   Michael\n",
            "9998                  Just checking in, how’s it going?       Pam\n",
            "9999  I’ll take over. Um, what we’re doing here: Mic...       Jim\n",
            "\n",
            "[10000 rows x 2 columns]>\n"
          ]
        }
      ]
    },
    {
      "cell_type": "code",
      "source": [
        "#Split dataset in 60% training, 20% validation, and 20% test\n",
        "trainDS, validationDS = train_test_split(sampled, test_size=0.20, random_state=0)\n",
        "trainDS, testDS = train_test_split(trainDS, test_size=0.25, random_state=0)\n",
        "trainDS=trainDS.reset_index(drop=True)\n",
        "validationDS=validationDS.reset_index(drop=True)\n",
        "testDS=testDS.reset_index(drop=True)\n",
        "\n",
        "print(trainDS.head())"
      ],
      "metadata": {
        "colab": {
          "base_uri": "https://localhost:8080/"
        },
        "id": "0vO8u4QKoRBA",
        "outputId": "78675ae0-fe2f-49ee-f7c1-6e9cf7d3dd37"
      },
      "execution_count": 281,
      "outputs": [
        {
          "output_type": "stream",
          "name": "stdout",
          "text": [
            "                                               quote character\n",
            "0  Wow. Thank you. Um, that must have been hard f...       Pam\n",
            "1  Hey, girls. What’s happening? Startinng to ble...   Michael\n",
            "2  Just terrible. And the longer you put it off, ...       Pam\n",
            "3       You have information about the sex predator?    Dwight\n",
            "4                    I know. Okay. Alright. Oh– God!   Michael\n"
          ]
        }
      ]
    },
    {
      "cell_type": "code",
      "source": [
        "sampledCounts=sampled['character'].value_counts()\n",
        "trainCounts=trainDS['character'].value_counts()\n",
        "validationCounts=validationDS['character'].value_counts()\n",
        "testCounts=testDS['character'].value_counts()\n",
        "\n",
        "tableDataCount={\n",
        "    'Dataset':['Initial', 'Train', 'Validation', 'Test'],\n",
        "    'Michael':[sampledCounts['Michael'],trainCounts['Michael'],validationCounts['Michael'],testCounts['Michael']],\n",
        "    'Dwight':[sampledCounts['Dwight'],trainCounts['Dwight'],validationCounts['Dwight'],testCounts['Dwight']],\n",
        "    'Jim':[sampledCounts['Jim'],trainCounts['Jim'],validationCounts['Jim'],testCounts['Jim']],\n",
        "    'Pam':[sampledCounts['Pam'],trainCounts['Pam'],validationCounts['Pam'],testCounts['Pam']],\n",
        "}\n",
        "\n",
        "tableDataPercent={\n",
        "    'Dataset':['Initial', 'Train', 'Validation', 'Test'],\n",
        "    'Michael':[str(round(sampledCounts['Michael']/10000*100,2)),str(round(trainCounts['Michael']/6000*100,2)),str(round(validationCounts['Michael']/2000*100,2)),str(round(testCounts['Michael']/2000*100,2))],\n",
        "    'Dwight':[str(round(sampledCounts['Dwight']/10000*100,2)),str(round(trainCounts['Dwight']/6000*100,2)),str(round(validationCounts['Dwight']/2000*100,2)),str(round(testCounts['Dwight']/2000*100,2))],\n",
        "    'Jim':[str(round(sampledCounts['Jim']/10000*100,2)),str(round(trainCounts['Jim']/6000*100,2)),str(round(validationCounts['Jim']/2000*100,2)),str(round(testCounts['Jim']/2000*100,2))],\n",
        "    'Pam':[str(round(sampledCounts['Pam']/10000*100,2)),str(round(trainCounts['Pam']/6000*100,2)),str(round(validationCounts['Pam']/2000*100,2)),str(round(testCounts['Pam']/2000*100,2))],\n",
        "}\n",
        "\n",
        "tableFrameCount=pd.DataFrame(tableDataCount)\n",
        "print('Table displaying the amount of quotes for each character in each dataset\\n')\n",
        "print(tableFrameCount.to_string(index=False))\n",
        "\n",
        "tableFramePercent=pd.DataFrame(tableDataPercent)\n",
        "print('\\nTable displaying the percentage of character quotes in each dataset\\n')\n",
        "print(tableFramePercent.to_string(index=False))"
      ],
      "metadata": {
        "colab": {
          "base_uri": "https://localhost:8080/"
        },
        "id": "bIB3QgRmCS6_",
        "outputId": "9ba3cc02-e6ad-42ca-e58e-0c9b493166a8"
      },
      "execution_count": 282,
      "outputs": [
        {
          "output_type": "stream",
          "name": "stdout",
          "text": [
            "Table displaying the amount of quotes for each character in each dataset\n",
            "\n",
            "   Dataset  Michael  Dwight  Jim  Pam\n",
            "   Initial     2500    2500 2500 2500\n",
            "     Train     1493    1499 1505 1503\n",
            "Validation      507     491  508  494\n",
            "      Test      500     510  487  503\n",
            "\n",
            "Table displaying the percentage of character quotes in each dataset\n",
            "\n",
            "   Dataset Michael Dwight   Jim   Pam\n",
            "   Initial    25.0   25.0  25.0  25.0\n",
            "     Train   24.88  24.98 25.08 25.05\n",
            "Validation   25.35  24.55  25.4  24.7\n",
            "      Test    25.0   25.5 24.35 25.15\n"
          ]
        }
      ]
    },
    {
      "cell_type": "code",
      "source": [
        "#Using the english pipeline we tokenize each quote and add it to the dataframe\n",
        "#The text_pipeline_spacy function is from the labs\n",
        "import spacy\n",
        "from spacy.tokenizer import Tokenizer\n",
        "from spacy.util import compile_prefix_regex, compile_infix_regex, compile_suffix_regex\n",
        "import re\n",
        "\n",
        "def token(nlp):\n",
        "    infix = re.compile(r'''[:\\—\\-\\.\\...\\/\\-\\…\\’]''')\n",
        "    return Tokenizer(nlp.vocab, \n",
        "                     prefix_search=compile_prefix_regex(nlp.Defaults.prefixes).search,\n",
        "                     suffix_search=compile_suffix_regex(nlp.Defaults.suffixes).search,\n",
        "                     infix_finditer=infix.finditer,\n",
        "                     token_match=None\n",
        "                     )\n",
        "\n",
        "nlp = spacy.load(\"en_core_web_sm\")\n",
        "nlp.tokenizer = token(nlp)\n",
        "\n",
        "a=set()\n",
        "\n",
        "def text_pipeline_spacy(text):\n",
        "    tokens = []\n",
        "    doc = nlp(text)\n",
        "    for t in doc:\n",
        "        if(not t.is_stop and not t.is_punct and not t.is_space and not t.like_num and not t.is_currency):\n",
        "            tokens.append(t.lemma_.lower())\n",
        "            a.add(t.lemma_.lower())\n",
        "    return tokens\n",
        "\n",
        "#text_pipeline_spacy(\"its 8:30 and im back-end colder holding aa6aa £34\")\n",
        "# tokensArr=[]\n",
        "# for q in trainDS.itertuples():\n",
        "#   tokensArr.append(text_pipeline_spacy(q.quote))\n",
        "\n",
        "# print(len(tokensArr),len(a))\n",
        "\n",
        "# trainDSwTokens = trainDS.assign(tokens=tokensArr)"
      ],
      "metadata": {
        "id": "HgvltBE9hMS3"
      },
      "execution_count": 283,
      "outputs": []
    },
    {
      "cell_type": "code",
      "source": [
        "from sklearn.feature_extraction.text import TfidfVectorizer\n",
        "vectorizer = TfidfVectorizer(analyzer=text_pipeline_spacy)\n",
        "matrix = vectorizer.fit_transform(trainDS.quote)"
      ],
      "metadata": {
        "id": "5z5eBRC-0_UI"
      },
      "execution_count": 284,
      "outputs": []
    },
    {
      "cell_type": "code",
      "source": [
        "print(trainDS.quote)\n",
        "print(matrix.shape)\n",
        "\n",
        "mat=matrix.toarray()\n",
        "print(len(mat))\n",
        "\n",
        "featureNames=vectorizer.get_feature_names_out()\n",
        "# print(a.difference(set(featureNames)))\n",
        "\n",
        "print(len(vectorizer.vocabulary_))\n"
      ],
      "metadata": {
        "colab": {
          "base_uri": "https://localhost:8080/"
        },
        "id": "Ue3ffepx-eqg",
        "outputId": "89f21bb8-1903-4aa0-ba7c-4e253500aafd"
      },
      "execution_count": 285,
      "outputs": [
        {
          "output_type": "stream",
          "name": "stdout",
          "text": [
            "0       Wow. Thank you. Um, that must have been hard f...\n",
            "1       Hey, girls. What’s happening? Startinng to ble...\n",
            "2       Just terrible. And the longer you put it off, ...\n",
            "3            You have information about the sex predator?\n",
            "4                         I know. Okay. Alright. Oh– God!\n",
            "                              ...                        \n",
            "5995                    Don’t you want a sheath for that?\n",
            "5996              He’s a purple belt. That’s really high.\n",
            "5997    She might have been. So she says ‘Fine. I will...\n",
            "5998    No, no, no, no, no. That wasn’t what I wasn’t,...\n",
            "5999                   Oh, Phyllis got flashed. It’s, uh…\n",
            "Name: quote, Length: 6000, dtype: object\n",
            "(6000, 5661)\n",
            "6000\n",
            "5661\n"
          ]
        }
      ]
    },
    {
      "cell_type": "code",
      "source": [
        "def initKBlankArr(k):\n",
        "    kBlankArr=[]\n",
        "    for i in range(k):\n",
        "      kBlankArr.append([])\n",
        "    return kBlankArr\n",
        "\n",
        "def getCentInitialForgy(k):\n",
        "  centroids=[]\n",
        "  for i in range(k):\n",
        "    index=np.random.randint(0,len(mat)-1)\n",
        "    centroids.append(mat[index])\n",
        "  return centroids\n",
        "\n",
        "def getCentInitialRandom(k):\n",
        "  centroids=initKBlankArr(k)\n",
        "  for item in mat:\n",
        "    index=np.random.randint(0,k)\n",
        "    #print(index)\n",
        "    centroids[index].append(item)\n",
        "  #print(len(centroids))\n",
        "  cents=calculateMeans(centroids)\n",
        "  #print(len(cents[0]))\n",
        "  return cents\n",
        "\n",
        "def getEuclidDistances(x,centroids):\n",
        "  dists=[]\n",
        "  for c in centroids:\n",
        "    #print(len(c),len(x))\n",
        "    dists.append(np.linalg.norm(np.array(x)-np.array(c)))\n",
        "  return dists\n",
        "\n",
        "def getDistances(centroids,k):\n",
        "  dists=[]\n",
        "  tokens=initKBlankArr(k)\n",
        "  sortedRows=initKBlankArr(k)\n",
        "  for i in range(len(mat)):\n",
        "    dists=getEuclidDistances(mat[i],centroids)\n",
        "    #print(dists)\n",
        "    sortedRows[np.argmin(dists)].append(mat[i])\n",
        "    tokens[np.argmin(dists)].append([trainDS.quote[i],np.min(dists),trainDS.character[i]])\n",
        "  return sortedRows,tokens\n",
        "\n",
        "def calculateMeans(arr):\n",
        "  means=[]\n",
        "  #print(len(arr))\n",
        "  for i in range(len(arr)):\n",
        "      #print(len(arr[0]),len(arr[1]),len(arr[2]),len(arr[3]),len(arr[4]))\n",
        "      means.append(np.mean(arr[i], axis=0))\n",
        "  return means\n",
        "\n"
      ],
      "metadata": {
        "id": "FEAOO-0X-IUU"
      },
      "execution_count": 397,
      "outputs": []
    },
    {
      "cell_type": "code",
      "source": [
        "from copy import deepcopy\n",
        "\n",
        "def kMeans(k, max_iter):\n",
        "  i=0\n",
        "  centroidsWords=initKBlankArr(k)\n",
        "  oldCentroids=getCentInitialRandom(k)\n",
        "  centroids=getCentInitialRandom(k)\n",
        "  #print(len(mat))\n",
        "  while np.not_equal(oldCentroids,centroids).any() and i<max_iter:\n",
        "    sortedRows, tokens=getDistances(centroids,k)\n",
        "    lens=[len(i) for i in sortedRows]\n",
        "    print(lens)\n",
        "    oldCentroids=deepcopy(centroids)\n",
        "    centroids=calculateMeans(sortedRows)\n",
        "    #print(np.asarray(centroids).shape)\n",
        "    #print(np.asarray(oldCentroids).shape)\n",
        "    i=i+1\n",
        "  return sortedRows, tokens\n",
        "\n",
        "result, tokens=kMeans(4,100)"
      ],
      "metadata": {
        "id": "hgHcfzECnW2x",
        "colab": {
          "base_uri": "https://localhost:8080/"
        },
        "outputId": "35b11c42-47d4-442c-f3c5-7be24be827ad"
      },
      "execution_count": 406,
      "outputs": [
        {
          "output_type": "stream",
          "name": "stdout",
          "text": [
            "[1617, 1643, 1281, 1459]\n",
            "[1465, 2218, 1058, 1259]\n",
            "[1289, 2734, 983, 994]\n",
            "[1221, 3024, 921, 834]\n",
            "[1121, 3285, 835, 759]\n",
            "[1040, 3478, 766, 716]\n",
            "[980, 3614, 708, 698]\n",
            "[925, 3720, 663, 692]\n",
            "[865, 3812, 633, 690]\n",
            "[801, 3907, 603, 689]\n",
            "[752, 4006, 555, 687]\n",
            "[719, 4074, 521, 686]\n",
            "[680, 4140, 497, 683]\n",
            "[631, 4208, 478, 683]\n",
            "[588, 4267, 464, 681]\n",
            "[552, 4320, 450, 678]\n",
            "[522, 4358, 441, 679]\n",
            "[515, 4369, 437, 679]\n",
            "[509, 4376, 436, 679]\n",
            "[504, 4381, 436, 679]\n",
            "[501, 4384, 436, 679]\n",
            "[499, 4386, 436, 679]\n",
            "[496, 4389, 436, 679]\n",
            "[493, 4392, 436, 679]\n",
            "[487, 4398, 436, 679]\n",
            "[474, 4411, 436, 679]\n",
            "[462, 4423, 436, 679]\n",
            "[448, 4437, 436, 679]\n",
            "[436, 4449, 436, 679]\n",
            "[421, 4465, 436, 678]\n",
            "[397, 4490, 436, 677]\n",
            "[380, 4509, 433, 678]\n",
            "[368, 4522, 429, 681]\n",
            "[371, 4523, 425, 681]\n",
            "[371, 4524, 424, 681]\n",
            "[371, 4524, 424, 681]\n"
          ]
        }
      ]
    },
    {
      "cell_type": "code",
      "source": [
        "def Sort(sub_li):\n",
        "    sub_li.sort(key = lambda x: x[1])\n",
        "    return sub_li\n",
        "\n",
        "sorted=[Sort(x)[:10]for x in tokens]\n",
        "for item in sorted:\n",
        "  # print(list(map(lambda x : x[2], item)))\n",
        "  print(item)\n",
        "\n",
        "authors=[]\n",
        "import collections\n",
        "ind=0\n",
        "for item in tokens:\n",
        "  for c in item:\n",
        "    if c[2] == 'Jim':\n",
        "      authors.append(0)\n",
        "    if c[2] == 'Michael':\n",
        "      authors.append(1)\n",
        "    if c[2] == 'Dwight':\n",
        "      authors.append(2)\n",
        "    if c[2] == 'Pam':\n",
        "      authors.append(3)\n",
        "  auths=list(map(lambda x : x[2], item))\n",
        "  cnt=collections.Counter(auths)\n",
        "  print(cnt)\n",
        "  ind=ind+1"
      ],
      "metadata": {
        "colab": {
          "base_uri": "https://localhost:8080/"
        },
        "id": "LrfCpZKO4xV-",
        "outputId": "07b31665-79f8-427e-c996-b5a7f803e880"
      },
      "execution_count": 419,
      "outputs": [
        {
          "output_type": "stream",
          "name": "stdout",
          "text": [
            "[['Oh! No, you should go.', 0.6941188620319341, 'Pam'], ['Oh, no. No. No. No. No.', 0.6941188620319341, 'Dwight'], ['Oh, did I? Oh, yes, I did.', 0.7613932143698217, 'Dwight'], ['Oh, my God! Go, go!', 0.7883064378929392, 'Pam'], ['Oh my god! It’s really you!', 0.7883064378929392, 'Pam'], ['Oh God, what was that?', 0.7883064378929392, 'Michael'], ['Oh my God, that’s her! That’s her, go, go, go.', 0.7883064378929392, 'Jim'], ['Oh my God. Oh my God.', 0.7883064378929392, 'Jim'], ['Oh my God! That’s it! That’s it!', 0.7883064378929392, 'Michael'], ['Oh, my God. Oh, my God. No, no, no, no.', 0.7883064378929392, 'Pam']]\n",
            "[['What do we have here?', 0.09020778001251854, 'Jim'], ['No, no. What do I do?', 0.09020778001251854, 'Michael'], ['Really? Would you do that?', 0.09020778001251854, 'Michael'], ['I did not do this.', 0.09020778001251854, 'Jim'], ['Will never be her name.', 0.09020778001251854, 'Dwight'], ['No no no the first part.', 0.09020778001251854, 'Dwight'], ['It’s just out there, you…', 0.09020778001251854, 'Pam'], ['They do call me that.', 0.09020778001251854, 'Pam'], ['What are you doing out here?', 0.09020778001251854, 'Pam'], ['But you can say that about anything.', 0.09020778001251854, 'Dwight']]\n",
            "[['No, I’m not doing that.', 0.7130857450777531, 'Jim'], ['I’m not… I’m not going to have…', 0.734679192268924, 'Pam'], ['I’m here! I’m here! I’m here! It’s ok!', 0.743827218277015, 'Dwight'], ['No, I umm, well I’m not gonna, I’m, I’m not gonna move in with anyone unless I’m engaged.', 0.7841452098578504, 'Pam'], ['No, I’m not gonna do that.', 0.7932201186719442, 'Jim'], ['I’m not gonna say it.', 0.7932201186719442, 'Dwight'], ['I’m not gonna do that.', 0.7932201186719442, 'Pam'], ['No. No, I’m not gonna-no.', 0.7932201186719442, 'Jim'], ['No, I’m here. I’m right… I’m at the bar.', 0.7970816042637836, 'Michael'], ['Oh I’m sorry. I’m sorry.', 0.8284377863759411, 'Pam']]\n",
            "[['What, no. That can’t…I don’t…', 0.7008777983379765, 'Pam'], ['I… I can’t give you that, I— I don’t make this much.', 0.7008777983379765, 'Michael'], ['But I don’t have any…', 0.7133929198719994, 'Dwight'], ['I just don’t get it.', 0.7133929198719994, 'Dwight'], ['I don’t… I don’t think so.', 0.7281138428726002, 'Jim'], ['I don’t know because I everything I own is there.', 0.729830009542521, 'Jim'], ['I don’t know who he is.', 0.729830009542521, 'Pam'], ['And we don’t know how.', 0.729830009542521, 'Jim'], ['We don’t have any money. We don’t have an office. We don’t have anything.', 0.7688702984161124, 'Pam'], ['Don’t you think you should say something?', 0.779271963475304, 'Pam']]\n",
            "Counter({'Jim': 114, 'Pam': 100, 'Michael': 89, 'Dwight': 68})\n",
            "Counter({'Dwight': 1213, 'Michael': 1147, 'Pam': 1095, 'Jim': 1069})\n",
            "Counter({'Jim': 144, 'Pam': 106, 'Michael': 97, 'Dwight': 77})\n",
            "Counter({'Pam': 202, 'Jim': 178, 'Michael': 160, 'Dwight': 141})\n"
          ]
        }
      ]
    },
    {
      "cell_type": "code",
      "source": [
        "def plotConfusionMatrix(labels_val, labels_predicted):\n",
        "  cm = confusion_matrix(labels_val, labels_predicted)\n",
        "  colour_map = sn.color_palette(\"Purples\", as_cmap=True)\n",
        "  labels = ['Dwight', 'Jim','Michael','Pam']\n",
        "  plot = sn.heatmap(cm, \n",
        "                    annot=True, # Put the numbers in\n",
        "                    annot_kws={\"size\": 16}, # Make the numbers bigger\n",
        "                    fmt='g', # Stop scientific notation\n",
        "                    cmap = colour_map, # Choose the colour palette\n",
        "                    cbar = False, # Don't include the colour bar\n",
        "                    xticklabels=labels, # Put in the X and Y labels\n",
        "                    yticklabels=labels)\n",
        "  plot.set(xlabel='Predicted', ylabel='Actual')\n",
        "  return plot"
      ],
      "metadata": {
        "id": "oWj8K3NeaoCT"
      },
      "execution_count": 422,
      "outputs": []
    },
    {
      "cell_type": "code",
      "source": [
        "dsCharNumber=[]\n",
        "for c in trainDS.character:\n",
        "  if c == 'Jim':\n",
        "    dsCharNumber.append(0)\n",
        "  if c == 'Michael':\n",
        "    dsCharNumber.append(1)\n",
        "  if c == 'Dwight':\n",
        "    dsCharNumber.append(2)\n",
        "  if c == 'Pam':\n",
        "    dsCharNumber.append(3)\n",
        "\n",
        "plotConfusionMatrix(dsCharNumber,authors)"
      ],
      "metadata": {
        "colab": {
          "base_uri": "https://localhost:8080/",
          "height": 297
        },
        "id": "xZWt5Jvz5GSX",
        "outputId": "320aeb53-0808-4cbd-c943-4f34ccd1bd9c"
      },
      "execution_count": 423,
      "outputs": [
        {
          "output_type": "execute_result",
          "data": {
            "text/plain": [
              "<matplotlib.axes._subplots.AxesSubplot at 0x7f283490b850>"
            ]
          },
          "metadata": {},
          "execution_count": 423
        },
        {
          "output_type": "display_data",
          "data": {
            "text/plain": [
              "<Figure size 432x288 with 1 Axes>"
            ],
            "image/png": "[encoded data removed]"
          },
          "metadata": {
            "needs_background": "light"
          }
        }
      ]
    },
    {
      "cell_type": "code",
      "source": [
        "from sklearn.dummy import DummyClassifier\n",
        "from sklearn.metrics import accuracy_score, precision_score, recall_score, f1_score\n",
        "\n",
        "dummy_mf=DummyClassifier(strategy=\"most_frequent\")\n",
        "dummy_mf.fit(trainDS.quote, trainDS.character)\n",
        "labelsPredicted=dummy_mf.predict(validationDS.quote)\n",
        "\n",
        "accuDMF=accuracy_score(validationDS.character,labelsPredicted)\n",
        "precDMF=precision_score(validationDS.character,labelsPredicted,average='macro')\n",
        "reccDMF=recall_score(validationDS.character,labelsPredicted,average='macro')\n",
        "f1sDMF=f1_score(validationDS.character,labelsPredicted,average='macro')\n",
        "print(\"Accuracy:\",f\"{accuDMF:.3f}\")\n",
        "print(\"Precision:\",f\"{precDMF:.3f}\")\n",
        "print(\"Recall:\",f\"{reccDMF:.3f}\")\n",
        "print(\"F1:\",f\"{f1sDMF:.3f}\")\n",
        "\n",
        "plotConfusionMatrix(validationDS.character,labelsPredicted)"
      ],
      "metadata": {
        "colab": {
          "base_uri": "https://localhost:8080/",
          "height": 424
        },
        "id": "ACQ8QWM_VWv0",
        "outputId": "e2c3250a-cb7f-4102-9690-f7a1a8b8475d"
      },
      "execution_count": 424,
      "outputs": [
        {
          "output_type": "stream",
          "name": "stdout",
          "text": [
            "Accuracy: 0.254\n",
            "Precision: 0.064\n",
            "Recall: 0.250\n",
            "F1: 0.101\n"
          ]
        },
        {
          "output_type": "stream",
          "name": "stderr",
          "text": [
            "/usr/local/lib/python3.8/dist-packages/sklearn/metrics/_classification.py:1318: UndefinedMetricWarning: Precision is ill-defined and being set to 0.0 in labels with no predicted samples. Use `zero_division` parameter to control this behavior.\n",
            "  _warn_prf(average, modifier, msg_start, len(result))\n"
          ]
        },
        {
          "output_type": "execute_result",
          "data": {
            "text/plain": [
              "<matplotlib.axes._subplots.AxesSubplot at 0x7f2834b3dca0>"
            ]
          },
          "metadata": {},
          "execution_count": 424
        },
        {
          "output_type": "display_data",
          "data": {
            "text/plain": [
              "<Figure size 432x288 with 1 Axes>"
            ],
            "image/png": "[encoded data removed]"
          },
          "metadata": {
            "needs_background": "light"
          }
        }
      ]
    },
    {
      "cell_type": "code",
      "source": [
        "dummy_strat=DummyClassifier(strategy=\"stratified\")\n",
        "dummy_strat.fit(trainDS.quote, trainDS.character)\n",
        "labelsPredicted=dummy_strat.predict(validationDS.quote)\n",
        "\n",
        "accuDST=accuracy_score(validationDS.character,labelsPredicted)\n",
        "precDST=precision_score(validationDS.character,labelsPredicted,average='macro')\n",
        "reccDST=recall_score(validationDS.character,labelsPredicted,average='macro')\n",
        "f1sDST=f1_score(validationDS.character,labelsPredicted,average='macro')\n",
        "print(\"Accuracy:\",f\"{accuDST:.3f}\")\n",
        "print(\"Precision:\",f\"{precDST:.3f}\")\n",
        "print(\"Recall:\",f\"{reccDST:.3f}\")\n",
        "print(\"F1:\",f\"{f1sDST:.3f}\")\n",
        "\n",
        "plotConfusionMatrix(validationDS.character,labelsPredicted)"
      ],
      "metadata": {
        "id": "jYF8cvElVw1X",
        "colab": {
          "base_uri": "https://localhost:8080/",
          "height": 368
        },
        "outputId": "97cc6cd3-a861-4f54-cae4-d806859bf534"
      },
      "execution_count": 425,
      "outputs": [
        {
          "output_type": "stream",
          "name": "stdout",
          "text": [
            "Accuracy: 0.246\n",
            "Precision: 0.246\n",
            "Recall: 0.246\n",
            "F1: 0.246\n"
          ]
        },
        {
          "output_type": "execute_result",
          "data": {
            "text/plain": [
              "<matplotlib.axes._subplots.AxesSubplot at 0x7f287321e310>"
            ]
          },
          "metadata": {},
          "execution_count": 425
        },
        {
          "output_type": "display_data",
          "data": {
            "text/plain": [
              "<Figure size 432x288 with 1 Axes>"
            ],
            "image/png": "[encoded data removed]"
          },
          "metadata": {
            "needs_background": "light"
          }
        }
      ]
    },
    {
      "cell_type": "code",
      "source": [
        "from sklearn.preprocessing import OneHotEncoder\n",
        "from sklearn.linear_model import LogisticRegression\n",
        "\n",
        "ohEncoder = OneHotEncoder(handle_unknown='ignore')\n",
        "ohLabelsT = ohEncoder.fit_transform(trainDS.quote.array.reshape(-1,1)).toarray()\n",
        "ohLabelsV = ohEncoder.transform(validationDS.quote.array.reshape(-1,1)).toarray()\n",
        "\n",
        "logistReg=LogisticRegression(random_state=42).fit(ohLabelsT,trainDS.character)\n",
        "labelsPredicted=logistReg.predict(ohLabelsV)\n",
        "\n",
        "accuOHL=accuracy_score(validationDS.character,labelsPredicted)\n",
        "precOHL=precision_score(validationDS.character,labelsPredicted,average='macro')\n",
        "reccOHL=recall_score(validationDS.character,labelsPredicted,average='macro')\n",
        "f1sOHL=f1_score(validationDS.character,labelsPredicted,average='macro')\n",
        "print(\"Accuracy:\",f\"{accuOHL:.3f}\")\n",
        "print(\"Precision:\",f\"{precOHL:.3f}\")\n",
        "print(\"Recall:\",f\"{reccOHL:.3f}\")\n",
        "print(\"F1:\",f\"{f1sOHL:.3f}\")\n",
        "\n",
        "plotConfusionMatrix(validationDS.character,labelsPredicted)"
      ],
      "metadata": {
        "id": "0aFD86abbPFL",
        "colab": {
          "base_uri": "https://localhost:8080/",
          "height": 424
        },
        "outputId": "dbda66aa-b665-46d6-a716-5b3c25f94c79"
      },
      "execution_count": 426,
      "outputs": [
        {
          "output_type": "stream",
          "name": "stdout",
          "text": [
            "Accuracy: 0.254\n",
            "Precision: 0.376\n",
            "Recall: 0.250\n",
            "F1: 0.104\n"
          ]
        },
        {
          "output_type": "stream",
          "name": "stderr",
          "text": [
            "/usr/local/lib/python3.8/dist-packages/sklearn/metrics/_classification.py:1318: UndefinedMetricWarning: Precision is ill-defined and being set to 0.0 in labels with no predicted samples. Use `zero_division` parameter to control this behavior.\n",
            "  _warn_prf(average, modifier, msg_start, len(result))\n"
          ]
        },
        {
          "output_type": "execute_result",
          "data": {
            "text/plain": [
              "<matplotlib.axes._subplots.AxesSubplot at 0x7f2834a23550>"
            ]
          },
          "metadata": {},
          "execution_count": 426
        },
        {
          "output_type": "display_data",
          "data": {
            "text/plain": [
              "<Figure size 432x288 with 1 Axes>"
            ],
            "image/png": "[encoded data removed]"
          },
          "metadata": {
            "needs_background": "light"
          }
        }
      ]
    },
    {
      "cell_type": "code",
      "source": [
        "vectorizer = TfidfVectorizer()\n",
        "matrixT = vectorizer.fit_transform(trainDS.quote)\n",
        "matrixV = vectorizer.transform(validationDS.quote)\n",
        "\n",
        "logistReg=LogisticRegression(random_state=42).fit(matrixT,trainDS.character)\n",
        "labelsPredicted=logistReg.predict(matrixV)\n",
        "\n",
        "accuTFL=accuracy_score(validationDS.character,labelsPredicted)\n",
        "precTFL=precision_score(validationDS.character,labelsPredicted,average='macro')\n",
        "reccTFL=recall_score(validationDS.character,labelsPredicted,average='macro')\n",
        "f1sTFL=f1_score(validationDS.character,labelsPredicted,average='macro')\n",
        "print(\"Accuracy:\",f\"{accuTFL:.3f}\")\n",
        "print(\"Precision:\",f\"{precTFL:.3f}\")\n",
        "print(\"Recall:\",f\"{reccTFL:.3f}\")\n",
        "print(\"F1:\",f\"{f1sTFL:.3f}\")\n",
        "\n",
        "plotConfusionMatrix(validationDS.character,labelsPredicted)"
      ],
      "metadata": {
        "id": "MsR-XusrbiLD",
        "colab": {
          "base_uri": "https://localhost:8080/",
          "height": 511
        },
        "outputId": "c22f9655-118b-4723-b668-62cf039c446e"
      },
      "execution_count": 427,
      "outputs": [
        {
          "output_type": "stream",
          "name": "stdout",
          "text": [
            "Accuracy: 0.424\n",
            "Precision: 0.424\n",
            "Recall: 0.425\n",
            "F1: 0.424\n"
          ]
        },
        {
          "output_type": "stream",
          "name": "stderr",
          "text": [
            "/usr/local/lib/python3.8/dist-packages/sklearn/linear_model/_logistic.py:814: ConvergenceWarning: lbfgs failed to converge (status=1):\n",
            "STOP: TOTAL NO. of ITERATIONS REACHED LIMIT.\n",
            "\n",
            "Increase the number of iterations (max_iter) or scale the data as shown in:\n",
            "    https://scikit-learn.org/stable/modules/preprocessing.html\n",
            "Please also refer to the documentation for alternative solver options:\n",
            "    https://scikit-learn.org/stable/modules/linear_model.html#logistic-regression\n",
            "  n_iter_i = _check_optimize_result(\n"
          ]
        },
        {
          "output_type": "execute_result",
          "data": {
            "text/plain": [
              "<matplotlib.axes._subplots.AxesSubplot at 0x7f28347f0bb0>"
            ]
          },
          "metadata": {},
          "execution_count": 427
        },
        {
          "output_type": "display_data",
          "data": {
            "text/plain": [
              "<Figure size 432x288 with 1 Axes>"
            ],
            "image/png": "[encoded data removed]"
          },
          "metadata": {
            "needs_background": "light"
          }
        }
      ]
    },
    {
      "cell_type": "code",
      "source": [
        "from sklearn import svm\n",
        "\n",
        "svc = svm.SVC(kernel='rbf')\n",
        "svc.fit(ohLabelsT, trainDS.character)\n",
        "predictedLabels = svc.predict(ohLabelsV)\n",
        "\n",
        "accuSVC=accuracy_score(validationDS.character,predictedLabels)\n",
        "precSVC=precision_score(validationDS.character,predictedLabels,average='macro')\n",
        "reccSVC=recall_score(validationDS.character,predictedLabels,average='macro')\n",
        "f1sSVC=f1_score(validationDS.character,predictedLabels,average='macro')\n",
        "print(\"Accuracy:\",f\"{accuSVC:.3f}\")\n",
        "print(\"Precision:\",f\"{precSVC:.3f}\")\n",
        "print(\"Recall:\",f\"{reccSVC:.3f}\")\n",
        "print(\"F1:\",f\"{f1sSVC:.3f}\")\n",
        "\n",
        "plotConfusionMatrix(validationDS.character,predictedLabels)\n",
        "\n"
      ],
      "metadata": {
        "id": "PvbYpHuIb5X-",
        "colab": {
          "base_uri": "https://localhost:8080/",
          "height": 424
        },
        "outputId": "f2c8d429-65ed-40a3-e839-146685490666"
      },
      "execution_count": 428,
      "outputs": [
        {
          "output_type": "stream",
          "name": "stdout",
          "text": [
            "Accuracy: 0.254\n",
            "Precision: 0.376\n",
            "Recall: 0.250\n",
            "F1: 0.104\n"
          ]
        },
        {
          "output_type": "stream",
          "name": "stderr",
          "text": [
            "/usr/local/lib/python3.8/dist-packages/sklearn/metrics/_classification.py:1318: UndefinedMetricWarning: Precision is ill-defined and being set to 0.0 in labels with no predicted samples. Use `zero_division` parameter to control this behavior.\n",
            "  _warn_prf(average, modifier, msg_start, len(result))\n"
          ]
        },
        {
          "output_type": "execute_result",
          "data": {
            "text/plain": [
              "<matplotlib.axes._subplots.AxesSubplot at 0x7f28349c1fa0>"
            ]
          },
          "metadata": {},
          "execution_count": 428
        },
        {
          "output_type": "display_data",
          "data": {
            "text/plain": [
              "<Figure size 432x288 with 1 Axes>"
            ],
            "image/png": "[encoded data removed]"
          },
          "metadata": {
            "needs_background": "light"
          }
        }
      ]
    },
    {
      "cell_type": "code",
      "source": [
        "from sklearn.neighbors import KNeighborsClassifier\n",
        "\n",
        "vectorizer = TfidfVectorizer()\n",
        "matrixT = vectorizer.fit_transform(trainDS.quote)\n",
        "matrixV = vectorizer.transform(validationDS.quote)\n",
        "\n",
        "kNeigh=KNeighborsClassifier().fit(matrixT,trainDS.character)\n",
        "labelsPredicted=kNeigh.predict(matrixV)\n",
        "\n",
        "accuKN=accuracy_score(validationDS.character,labelsPredicted)\n",
        "precKN=precision_score(validationDS.character,labelsPredicted,average='macro')\n",
        "reccKN=recall_score(validationDS.character,labelsPredicted,average='macro')\n",
        "f1sKN=f1_score(validationDS.character,labelsPredicted,average='macro')\n",
        "print(\"Accuracy:\",f\"{accuKN:.3f}\")\n",
        "print(\"Precision:\",f\"{precKN:.3f}\")\n",
        "print(\"Recall:\",f\"{reccKN:.3f}\")\n",
        "print(\"F1:\",f\"{f1sKN:.3f}\")\n",
        "\n",
        "plotConfusionMatrix(validationDS.character,labelsPredicted)"
      ],
      "metadata": {
        "colab": {
          "base_uri": "https://localhost:8080/",
          "height": 368
        },
        "id": "yHwdoMSrjaOq",
        "outputId": "2f4f2901-d08a-4d51-a543-f900b51e2bd0"
      },
      "execution_count": 429,
      "outputs": [
        {
          "output_type": "stream",
          "name": "stdout",
          "text": [
            "Accuracy: 0.311\n",
            "Precision: 0.311\n",
            "Recall: 0.310\n",
            "F1: 0.305\n"
          ]
        },
        {
          "output_type": "execute_result",
          "data": {
            "text/plain": [
              "<matplotlib.axes._subplots.AxesSubplot at 0x7f2873b1b940>"
            ]
          },
          "metadata": {},
          "execution_count": 429
        },
        {
          "output_type": "display_data",
          "data": {
            "text/plain": [
              "<Figure size 432x288 with 1 Axes>"
            ],
            "image/png": "[encoded data removed]"
          },
          "metadata": {
            "needs_background": "light"
          }
        }
      ]
    },
    {
      "cell_type": "code",
      "source": [
        "resTable={\n",
        "    'Model':['Dummy Classifier - most_frequent','Dummy Classifier - stratified',' LogisticRegression - One-hot vectorization', 'LogisticRegression - TF-IDF vectorization','SVC Classifier - One-hot vectorization','KNeighborsClassifier - TF-IDF vectorization'],\n",
        "    'Accuracy':[f\"{accuDMF:.3f}\",f\"{accuDST:.3f}\",f\"{accuOHL:.3f}\",f\"{accuTFL:.3f}\",f\"{accuSVC:.3f}\",f\"{accuKN:.3f}\"],\n",
        "    'Precision':[f\"{precDMF:.3f}\",f\"{precDST:.3f}\",f\"{precOHL:.3f}\",f\"{precTFL:.3f}\",f\"{precSVC:.3f}\",f\"{precKN:.3f}\"],\n",
        "    'Recall':[f\"{reccDMF:.3f}\",f\"{reccDST:.3f}\",f\"{reccOHL:.3f}\",f\"{reccTFL:.3f}\",f\"{reccSVC:.3f}\",f\"{reccKN:.3f}\"],\n",
        "    'F1':[f\"{f1sDMF:.3f}\",f\"{f1sDST:.3f}\",f\"{f1sOHL:.3f}\",f\"{f1sTFL:.3f}\",f\"{f1sSVC:.3f}\",f\"{f1sKN:.3f}\"]\n",
        "}\n",
        "\n",
        "tableFrameRes=pd.DataFrame(resTable).sort_values(by='F1', ascending=False)\n",
        "print('Table displaying the results for each model\\n')\n",
        "print(tableFrameRes.to_string(index=False))"
      ],
      "metadata": {
        "id": "9heNRXusb_uH",
        "colab": {
          "base_uri": "https://localhost:8080/"
        },
        "outputId": "0918e4a2-89b0-4cb5-a678-44fa314d2c83"
      },
      "execution_count": 430,
      "outputs": [
        {
          "output_type": "stream",
          "name": "stdout",
          "text": [
            "Table displaying the results for each model\n",
            "\n",
            "                                      Model Accuracy Precision Recall    F1\n",
            "  LogisticRegression - TF-IDF vectorization    0.424     0.424  0.425 0.424\n",
            "KNeighborsClassifier - TF-IDF vectorization    0.311     0.311  0.310 0.305\n",
            "              Dummy Classifier - stratified    0.246     0.246  0.246 0.246\n",
            " LogisticRegression - One-hot vectorization    0.254     0.376  0.250 0.104\n",
            "     SVC Classifier - One-hot vectorization    0.254     0.376  0.250 0.104\n",
            "           Dummy Classifier - most_frequent    0.254     0.064  0.250 0.101\n"
          ]
        }
      ]
    },
    {
      "cell_type": "code",
      "source": [
        "print('\\nThe best performing classifier\\n')\n",
        "print('LogisticRegression - TF-IDF vectorization')\n",
        "print(\"Accuracy:\",f\"{accuTFL:.3f}\")\n",
        "print(\"Precision:\",f\"{precTFL:.3f}\")\n",
        "print(\"Recall:\",f\"{reccTFL:.3f}\")\n",
        "print(\"F1:\",f\"{f1sTFL:.3f}\")\n"
      ],
      "metadata": {
        "colab": {
          "base_uri": "https://localhost:8080/"
        },
        "id": "tE760nAIDHig",
        "outputId": "9913b517-d6b5-43ac-df8c-d2766eb0db4a"
      },
      "execution_count": 431,
      "outputs": [
        {
          "output_type": "stream",
          "name": "stdout",
          "text": [
            "\n",
            "The best performing classifier\n",
            "\n",
            "LogisticRegression - TF-IDF vectorization\n",
            "Accuracy: 0.424\n",
            "Precision: 0.424\n",
            "Recall: 0.425\n",
            "F1: 0.424\n"
          ]
        }
      ]
    },
    {
      "cell_type": "code",
      "source": [
        "import matplotlib.pyplot as plot\n",
        "\n",
        "models = ['Dummy-MF','Dummy-S',' Log-OH', 'Log-TFIDF','SVC-OH']\n",
        "f1Scores = [float(f\"{f1sDMF:.3f}\"),float(f\"{f1sDST:.3f}\"),float(f\"{f1sOHL:.3f}\"),float(f\"{f1sTFL:.3f}\"),float(f\"{f1sSVC:.3f}\")]\n",
        "\n",
        "plot.bar(models, f1Scores)\n",
        "plot.ylabel('F1 Score')\n",
        "plot.xlabel('Model')\n",
        "plot.title('F1 Scores for models')\n",
        "plot.show()"
      ],
      "metadata": {
        "colab": {
          "base_uri": "https://localhost:8080/",
          "height": 295
        },
        "id": "YHMGwxK6Hh3q",
        "outputId": "de63bb0e-fd1f-42ea-dcc8-82254f58eec9"
      },
      "execution_count": 432,
      "outputs": [
        {
          "output_type": "display_data",
          "data": {
            "text/plain": [
              "<Figure size 432x288 with 1 Axes>"
            ],
            "image/png": "[encoded data removed]"
          },
          "metadata": {
            "needs_background": "light"
          }
        }
      ]
    },
    {
      "cell_type": "code",
      "source": [
        "# from sklearn.model_selection import ParameterGrid\n",
        "# param_grid = {'C': [10**-3, 10**-2, 10**-1,1, 10, 10**2, 10**3,10**4,10**5], 'sublinear_tf': [None, 6250,12500,18750,25000,31250,37500,43750,50000], 'max_features': [None, 6250,12500,18750,25000,31250,37500,43750,50000]}\n",
        "# f1s=0\n",
        "# c=0\n",
        "# sublinear_tf=None\n",
        "# max_features=None\n",
        "# for params in ParameterGrid(param_grid):\n",
        "\n",
        "#   vectorizer = TfidfVectorizer(sublinear_tf=params['sublinear_tf'], max_features=params['max_features'])\n",
        "#   matrixT = vectorizer.fit_transform(trainDS.quote)\n",
        "#   matrixV = vectorizer.transform(validationDS.quote)\n",
        "\n",
        "#   logistReg=LogisticRegression(C=params['C'], random_state=42).fit(matrixT,trainDS.character)\n",
        "#   labelsPredicted=logistReg.predict(matrixV)\n",
        "\n",
        "#   f1=f1_score(validationDS.character,labelsPredicted,average='macro')\n",
        "#   if f1 > f1s:\n",
        "#     f1s=f1\n",
        "#     c=params['C']\n",
        "#     sublinear_tf=params['sublinear_tf']\n",
        "#     max_features=params['max_features']\n",
        "# print(f\"{f1s:.3f}\")\n",
        "# print(c)\n",
        "# print(sublinear_tf)\n",
        "# print(max_features)"
      ],
      "metadata": {
        "id": "KxUCBJemIfzA"
      },
      "execution_count": null,
      "outputs": []
    },
    {
      "cell_type": "code",
      "source": [
        "# Results using output of above function\n",
        "\n",
        "vectorizer = TfidfVectorizer(sublinear_tf=6250, max_features=6250)\n",
        "matrixT = vectorizer.fit_transform(trainDS.quote)\n",
        "matrixV = vectorizer.transform(validationDS.quote)\n",
        "\n",
        "logistReg=LogisticRegression(C=1, random_state=42).fit(matrixT,trainDS.character)\n",
        "labelsPredicted=logistReg.predict(matrixV)\n",
        "\n",
        "accuParam=accuracy_score(validationDS.character,labelsPredicted)\n",
        "precParam=precision_score(validationDS.character,labelsPredicted,average='macro')\n",
        "reccParam=recall_score(validationDS.character,labelsPredicted,average='macro')\n",
        "f1sParam=f1_score(validationDS.character,labelsPredicted,average='macro')\n",
        "print(\"Accuracy:\",f\"{accuParam:.3f}\")\n",
        "print(\"Precision:\",f\"{precParam:.3f}\")\n",
        "print(\"Recall:\",f\"{reccParam:.3f}\")\n",
        "print(\"F1:\",f\"{f1sParam:.3f}\")\n",
        "\n",
        "plotConfusionMatrix(validationDS.character,labelsPredicted)"
      ],
      "metadata": {
        "colab": {
          "base_uri": "https://localhost:8080/",
          "height": 511
        },
        "id": "0ELBPEhBTQzX",
        "outputId": "96418b4c-c5b3-486c-96dd-b62a6db27744"
      },
      "execution_count": 433,
      "outputs": [
        {
          "output_type": "stream",
          "name": "stderr",
          "text": [
            "/usr/local/lib/python3.8/dist-packages/sklearn/linear_model/_logistic.py:814: ConvergenceWarning: lbfgs failed to converge (status=1):\n",
            "STOP: TOTAL NO. of ITERATIONS REACHED LIMIT.\n",
            "\n",
            "Increase the number of iterations (max_iter) or scale the data as shown in:\n",
            "    https://scikit-learn.org/stable/modules/preprocessing.html\n",
            "Please also refer to the documentation for alternative solver options:\n",
            "    https://scikit-learn.org/stable/modules/linear_model.html#logistic-regression\n",
            "  n_iter_i = _check_optimize_result(\n"
          ]
        },
        {
          "output_type": "stream",
          "name": "stdout",
          "text": [
            "Accuracy: 0.426\n",
            "Precision: 0.425\n",
            "Recall: 0.427\n",
            "F1: 0.426\n"
          ]
        },
        {
          "output_type": "execute_result",
          "data": {
            "text/plain": [
              "<matplotlib.axes._subplots.AxesSubplot at 0x7f28349a1430>"
            ]
          },
          "metadata": {},
          "execution_count": 433
        },
        {
          "output_type": "display_data",
          "data": {
            "text/plain": [
              "<Figure size 432x288 with 1 Axes>"
            ],
            "image/png": "[encoded data removed]"
          },
          "metadata": {
            "needs_background": "light"
          }
        }
      ]
    },
    {
      "cell_type": "code",
      "source": [
        "#Results now with added max_df param and some more tuning\n",
        "\n",
        "vectorizer = TfidfVectorizer(sublinear_tf=6250, max_features=6250, max_df=0.55)\n",
        "matrixT = vectorizer.fit_transform(trainDS.quote)\n",
        "matrixV = vectorizer.transform(validationDS.quote)\n",
        "\n",
        "logistReg=LogisticRegression(C=1.07, random_state=42).fit(matrixT,trainDS.character)\n",
        "labelsPredicted=logistReg.predict(matrixV)\n",
        "\n",
        "accuParam=accuracy_score(validationDS.character,labelsPredicted)\n",
        "precParam=precision_score(validationDS.character,labelsPredicted,average='macro')\n",
        "reccParam=recall_score(validationDS.character,labelsPredicted,average='macro')\n",
        "f1sParam=f1_score(validationDS.character,labelsPredicted,average='macro')\n",
        "print(\"Accuracy:\",f\"{accuParam:.3f}\")\n",
        "print(\"Precision:\",f\"{precParam:.3f}\")\n",
        "print(\"Recall:\",f\"{reccParam:.3f}\")\n",
        "print(\"F1:\",f\"{f1sParam:.3f}\")\n",
        "\n",
        "\n",
        "plotConfusionMatrix(validationDS.character,labelsPredicted)"
      ],
      "metadata": {
        "colab": {
          "base_uri": "https://localhost:8080/",
          "height": 511
        },
        "id": "SK3M_3Vz1E0f",
        "outputId": "aa411e3c-68fd-49f1-f51f-741463d08086"
      },
      "execution_count": 436,
      "outputs": [
        {
          "output_type": "stream",
          "name": "stderr",
          "text": [
            "/usr/local/lib/python3.8/dist-packages/sklearn/linear_model/_logistic.py:814: ConvergenceWarning: lbfgs failed to converge (status=1):\n",
            "STOP: TOTAL NO. of ITERATIONS REACHED LIMIT.\n",
            "\n",
            "Increase the number of iterations (max_iter) or scale the data as shown in:\n",
            "    https://scikit-learn.org/stable/modules/preprocessing.html\n",
            "Please also refer to the documentation for alternative solver options:\n",
            "    https://scikit-learn.org/stable/modules/linear_model.html#logistic-regression\n",
            "  n_iter_i = _check_optimize_result(\n"
          ]
        },
        {
          "output_type": "stream",
          "name": "stdout",
          "text": [
            "Accuracy: 0.427\n",
            "Precision: 0.427\n",
            "Recall: 0.428\n",
            "F1: 0.427\n"
          ]
        },
        {
          "output_type": "execute_result",
          "data": {
            "text/plain": [
              "<matplotlib.axes._subplots.AxesSubplot at 0x7f28348aebb0>"
            ]
          },
          "metadata": {},
          "execution_count": 436
        },
        {
          "output_type": "display_data",
          "data": {
            "text/plain": [
              "<Figure size 432x288 with 1 Axes>"
            ],
            "image/png": "[encoded data removed]"
          },
          "metadata": {
            "needs_background": "light"
          }
        }
      ]
    },
    {
      "cell_type": "code",
      "source": [
        "resTableParam={\n",
        "    'State':['Before Tuning','After Tuning'],\n",
        "    'Accuracy':[f\"{accuTFL:.3f}\",f\"{accuParam:.3f}\"],\n",
        "    'Precision':[f\"{precTFL:.3f}\",f\"{precParam:.3f}\"],\n",
        "    'Recall':[f\"{reccTFL:.3f}\",f\"{reccParam:.3f}\"],\n",
        "    'F1':[f\"{f1sTFL:.3f}\",f\"{f1sParam:.3f}\"]\n",
        "}\n",
        "\n",
        "tableFrameRes=pd.DataFrame(resTableParam)\n",
        "print('Table displaying the results for each model\\n')\n",
        "print(tableFrameRes.to_string(index=False))"
      ],
      "metadata": {
        "colab": {
          "base_uri": "https://localhost:8080/"
        },
        "id": "S8Es7dMfYc7J",
        "outputId": "0d509933-c8ba-482e-fb96-8462220151b3"
      },
      "execution_count": 437,
      "outputs": [
        {
          "output_type": "stream",
          "name": "stdout",
          "text": [
            "Table displaying the results for each model\n",
            "\n",
            "        State Accuracy Precision Recall    F1\n",
            "Before Tuning    0.424     0.424  0.425 0.424\n",
            " After Tuning    0.427     0.427  0.428 0.427\n"
          ]
        }
      ]
    },
    {
      "cell_type": "code",
      "source": [],
      "metadata": {
        "id": "L0eInocfZjZb"
      },
      "execution_count": 186,
      "outputs": []
    },
    {
      "cell_type": "code",
      "source": [],
      "metadata": {
        "id": "aVRnE1Q0bWgI"
      },
      "execution_count": null,
      "outputs": []
    }
  ]
}